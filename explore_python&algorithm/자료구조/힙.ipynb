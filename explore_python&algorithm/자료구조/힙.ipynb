{
 "cells": [
  {
   "cell_type": "markdown",
   "id": "3674ee38",
   "metadata": {},
   "source": [
    "- 부모노드의 인덱스 번호 = 자식노드의 인덱스 번호 // 2\n",
    "- 왼쪽 자식 노드의 인덱스 번호 = 부모노드의 인덱스 번호 *2\n",
    "- 오른쪽 자식 노드의 인덱스 번호 = 부모노드의 인덱스 번호 *2 + 1"
   ]
  },
  {
   "cell_type": "code",
   "execution_count": 1,
   "id": "f3c68a8c",
   "metadata": {},
   "outputs": [],
   "source": [
    "class Heap:\n",
    "    def __init__(self, data):\n",
    "        self.heap_array = list()\n",
    "        self.heap_array.append(None)\n",
    "        self.heap_array.append(data)"
   ]
  },
  {
   "cell_type": "code",
   "execution_count": 3,
   "id": "5eec10a5",
   "metadata": {},
   "outputs": [
    {
     "data": {
      "text/plain": [
       "[None, 1]"
      ]
     },
     "execution_count": 3,
     "metadata": {},
     "output_type": "execute_result"
    }
   ],
   "source": [
    "heap = Heap(1)\n",
    "heap.heap_array"
   ]
  },
  {
   "cell_type": "markdown",
   "id": "ef4db322",
   "metadata": {},
   "source": [
    "힙은 최소가 맨위, 혹은 최대가 맨위가 되는 정렬기반의 자료구조이다.\n",
    "때문에, insert 가 발생하면, data의 크기에 따라서 위치가 바뀌게 된다."
   ]
  },
  {
   "cell_type": "code",
   "execution_count": 25,
   "id": "784e9e21",
   "metadata": {},
   "outputs": [],
   "source": [
    "class Heap:\n",
    "    def __init__(self, data):\n",
    "        self.heap_array = list()\n",
    "        self.heap_array.append(None)\n",
    "        self.heap_array.append(data)\n",
    "    \n",
    "    \n",
    "    def move_up(self, inserted_idx):\n",
    "        if inserted_idx <= 1:\n",
    "            return False\n",
    "        parent_idx = inserted_idx //2\n",
    "        if self.heap_array[inserted_idx] > self.heap_array[parent_idx]:\n",
    "            return True\n",
    "        \n",
    "        else:\n",
    "            return False\n",
    "\n",
    "\n",
    "        \n",
    "    def insert(self,data):\n",
    "        if len(self.heap_array ) == 0:\n",
    "            self.heap_array.append(None)\n",
    "            self.heap_array.append(data)\n",
    "            return True\n",
    "        \n",
    "        self.heap_array.append(data)\n",
    "        \n",
    "        #들어간 데이터의 인덱스 번호 None이 맨앞이기 때문에 -1 이다.\n",
    "        inserted_idx = len(self.heap_array)-1\n",
    "        \n",
    "        while self.move_up(inserted_idx):\n",
    "            parent_idx = inserted_idx // 2\n",
    "\n",
    "            #부모노드와 바꿔줌\n",
    "            self.heap_array[inserted_idx], self.heap_array[parent_idx] = self.heap_array[parent_idx], self.heap_array[inserted_idx]\n",
    "            inserted_idx = parent_idx\n",
    "            \n",
    "        return True\n",
    "    \n",
    "\n",
    "            \n",
    "        "
   ]
  },
  {
   "cell_type": "markdown",
   "id": "e272e14c",
   "metadata": {},
   "source": [
    "### 힙 데이터 삭제 구현 , 인덱스 변환\n",
    "\n",
    "* 맨 위(최소거나 최대)노드가 삭제 되었을 경우 맨 하위노드가 제일 상위로 올라가게된다.\n",
    "\n",
    "* 그리고 자식노드와 비교하면서 작은 것이 있다면 반복적으로 그 노드와 변경해 줘야한다.\n",
    "* 자식노드가 없을 때, 혹은 자식노드가 작으면 반복을 멈춘다."
   ]
  },
  {
   "cell_type": "code",
   "execution_count": 26,
   "id": "831d5053",
   "metadata": {},
   "outputs": [],
   "source": [
    "class Heap:\n",
    "    def __init__(self, data):\n",
    "        self.heap_array = list()\n",
    "        self.heap_array.append(None)\n",
    "        self.heap_array.append(data)\n",
    "    \n",
    "    \n",
    "    def move_down(self, popped_idx):\n",
    "        left_child_popped_idx = popped_idx * 2\n",
    "        right_child_popped_idx = popped_idx * 2 + 1\n",
    "        \n",
    "        \n",
    "        #1 왼쪽 하위 노드가 없을 때\n",
    "        if left_child_popped_idx >= len(self.heap_array):\n",
    "            return False\n",
    "        #2 오른쪽 하위노드가 없을 때\n",
    "        elif right_child_popped_idx >= len(self.heap_array):\n",
    "            if self.heap_array[popped_idx] < self.heap_array[left_child_popped_idx]:\n",
    "                return True\n",
    "            else:\n",
    "                return False\n",
    "            \n",
    "        # 왼쪽, 오른쪽 자식노드가 모두 있을 때 \n",
    "        else:\n",
    "            #왼쪽과 오른쪽 을 비교한다.\n",
    "            #왼쪽이 오른쪽보다 크고\n",
    "            if self.heap_array[left_child_popped_idx] > self.heap_array[right_child_popped_idx]:\n",
    "                #그 왼쪽이 부모보다도 크다면 변경\n",
    "                if self.heap_array[popped_idx] < self.heap_array[left_child_popped_idx]:\n",
    "                    return True\n",
    "                else:\n",
    "                    return False\n",
    "            #오른쪽이 왼쪽보다 크고\n",
    "            else:\n",
    "                #그 오른쪽이 부모보다도 크다면\n",
    "                if self.heap_array[popped_idx] < self.heap_array[right_child_popped_idx]:\n",
    "                    return True\n",
    "                else:\n",
    "                    return False\n",
    "    \n",
    "    def pop(self):\n",
    "        if len(self.heap_array) <= 1:\n",
    "            return None\n",
    "        \n",
    "        returned_data = self.heap_array[1]\n",
    "        self.heap_array[1] = self.heap_array[-1]\n",
    "        \n",
    "        #맨 하위는 이제 필요없으니 삭제\n",
    "        del self.heap_array[-1]\n",
    "        \n",
    "        popped_idx = 1\n",
    "        while move_down(popped_idx):\n",
    "            \n",
    "            #2 오른쪽 하위노드가 없을 때\n",
    "            if right_child_popped_idx >= len(self.heap_array):\n",
    "                if self.heap_array[popped_idx] < self.heap_array[left_child_popped_idx]:\n",
    "                    self.heap_array[popped_idx], self.heap_array[left_child_popped_idx] =self.heap_array[left_child_popped_idx], self.heap_array[popped_idx]\n",
    "                    popped_idx = left_child_popped_idx\n",
    "            # 왼쪽, 오른쪽 자식노드가 모두 있을 때 \n",
    "            else:\n",
    "                #왼쪽과 오른쪽 을 비교한다.\n",
    "                #왼쪽이 오른쪽보다 크고\n",
    "                if self.heap_array[left_child_popped_idx] > self.heap_array[right_child_popped_idx]:\n",
    "                    #그 왼쪽이 부모보다도 크다면 변경\n",
    "                    if self.heap_array[popped_idx] < self.heap_array[left_child_popped_idx]:\n",
    "                        self.heap_array[left_child_popped_idx], self.heap_array[popped_idx] = self.heap_array[popped_idx],self.heap_array[left_child_popped_idx]\n",
    "                        popped_idx = left_child_popped_idx\n",
    "                #오른쪽이 왼쪽보다 크고\n",
    "                else:\n",
    "                    #그 오른쪽이 부모보다도 크다면\n",
    "                    if self.heap_array[popped_idx] < self.heap_array[right_child_popped_idx]:\n",
    "                        self.heap_array[popped_idx],self.heap_array[right_child_popped_idx] =self.heap_array[right_child_popped_idx] ,self.heap_array[popped_idx]\n",
    "                        popped_idx = right_child_popped_idx\n",
    "\n",
    "        return returned_data"
   ]
  },
  {
   "cell_type": "code",
   "execution_count": 39,
   "id": "d4bc6cbb",
   "metadata": {},
   "outputs": [],
   "source": [
    " class Heap:\n",
    "    def __init__(self, data):\n",
    "        self.heap_array = list()\n",
    "        self.heap_array.append(None)\n",
    "        self.heap_array.append(data)\n",
    "    \n",
    "    \n",
    "    def move_up(self, inserted_idx):\n",
    "        if inserted_idx <= 1:\n",
    "            return False\n",
    "        parent_idx = inserted_idx //2\n",
    "        if self.heap_array[inserted_idx] > self.heap_array[parent_idx]:\n",
    "            return True\n",
    "\n",
    "        else:\n",
    "            return False\n",
    "    \n",
    "    def move_down(self, popped_idx):\n",
    "        left_child_popped_idx = popped_idx * 2\n",
    "        right_child_popped_idx = popped_idx * 2 + 1\n",
    "        \n",
    "        \n",
    "        #1 왼쪽 하위 노드가 없을 때\n",
    "        if left_child_popped_idx >= len(self.heap_array):\n",
    "            return False\n",
    "        #2 오른쪽 하위노드가 없을 때\n",
    "        elif right_child_popped_idx >= len(self.heap_array):\n",
    "            if self.heap_array[popped_idx] < self.heap_array[left_child_popped_idx]:\n",
    "                return True\n",
    "            else:\n",
    "                return False\n",
    "            \n",
    "        # 왼쪽, 오른쪽 자식노드가 모두 있을 때 \n",
    "        else:\n",
    "            #왼쪽과 오른쪽 을 비교한다.\n",
    "            #왼쪽이 오른쪽보다 크고\n",
    "            if self.heap_array[left_child_popped_idx] > self.heap_array[right_child_popped_idx]:\n",
    "                #그 왼쪽이 부모보다도 크다면 변경\n",
    "                if self.heap_array[popped_idx] < self.heap_array[left_child_popped_idx]:\n",
    "                    return True\n",
    "                else:\n",
    "                    return False\n",
    "            #오른쪽이 왼쪽보다 크고\n",
    "            else:\n",
    "                #그 오른쪽이 부모보다도 크다면\n",
    "                if self.heap_array[popped_idx] < self.heap_array[right_child_popped_idx]:\n",
    "                    return True\n",
    "                else:\n",
    "                    return False\n",
    "    \n",
    "    \n",
    "    def insert(self,data):\n",
    "        if len(self.heap_array ) == 0:\n",
    "            self.heap_array.append(None)\n",
    "            self.heap_array.append(data)\n",
    "            return True\n",
    "\n",
    "        self.heap_array.append(data)\n",
    "\n",
    "        #들어간 데이터의 인덱스 번호 None이 맨앞이기 때문에 -1 이다.\n",
    "        inserted_idx = len(self.heap_array)-1\n",
    "\n",
    "        while self.move_up(inserted_idx):\n",
    "            parent_idx = inserted_idx // 2\n",
    "\n",
    "            #부모노드와 바꿔줌\n",
    "            self.heap_array[inserted_idx], self.heap_array[parent_idx] = self.heap_array[parent_idx], self.heap_array[inserted_idx]\n",
    "            inserted_idx = parent_idx\n",
    "\n",
    "            return True\n",
    "    \n",
    "    \n",
    "    def pop(self):\n",
    "        if len(self.heap_array) <= 1:\n",
    "            return None\n",
    "        \n",
    "        returned_data = self.heap_array[1]\n",
    "        self.heap_array[1] = self.heap_array[-1]\n",
    "        \n",
    "        #맨 하위는 이제 필요없으니 삭제\n",
    "        del self.heap_array[-1]\n",
    "        \n",
    "        popped_idx = 1\n",
    "        while self.move_down(popped_idx):\n",
    "            left_child_popped_idx = popped_idx * 2\n",
    "            right_child_popped_idx = popped_idx * 2 + 1\n",
    "            \n",
    "            #2 오른쪽 하위노드가 없을 때\n",
    "            if right_child_popped_idx >= len(self.heap_array):\n",
    "                if self.heap_array[popped_idx] < self.heap_array[left_child_popped_idx]:\n",
    "                    self.heap_array[popped_idx], self.heap_array[left_child_popped_idx] =self.heap_array[left_child_popped_idx], self.heap_array[popped_idx]\n",
    "                    popped_idx = left_child_popped_idx\n",
    "            # 왼쪽, 오른쪽 자식노드가 모두 있을 때 \n",
    "            else:\n",
    "                #왼쪽과 오른쪽 을 비교한다.\n",
    "                #왼쪽이 오른쪽보다 크고\n",
    "                if self.heap_array[left_child_popped_idx] > self.heap_array[right_child_popped_idx]:\n",
    "                    #그 왼쪽이 부모보다도 크다면 변경\n",
    "                    if self.heap_array[popped_idx] < self.heap_array[left_child_popped_idx]:\n",
    "                        self.heap_array[left_child_popped_idx], self.heap_array[popped_idx] = self.heap_array[popped_idx],self.heap_array[left_child_popped_idx]\n",
    "                        popped_idx = left_child_popped_idx\n",
    "                #오른쪽이 왼쪽보다 크고\n",
    "                else:\n",
    "                    #그 오른쪽이 부모보다도 크다면\n",
    "                    if self.heap_array[popped_idx] < self.heap_array[right_child_popped_idx]:\n",
    "                        self.heap_array[popped_idx],self.heap_array[right_child_popped_idx] =self.heap_array[right_child_popped_idx] ,self.heap_array[popped_idx]\n",
    "                        popped_idx = right_child_popped_idx\n",
    "\n",
    "        return returned_data"
   ]
  },
  {
   "cell_type": "code",
   "execution_count": 55,
   "id": "7b4f46f3",
   "metadata": {},
   "outputs": [
    {
     "data": {
      "text/plain": [
       "[None, 15, 24, 50, 7, 10, 3, 9]"
      ]
     },
     "execution_count": 55,
     "metadata": {},
     "output_type": "execute_result"
    }
   ],
   "source": [
    "heap = Heap(15)\n",
    "heap.insert(10)\n",
    "heap.insert(9)\n",
    "heap.insert(7)\n",
    "heap.insert(24)\n",
    "heap.insert(3)\n",
    "heap.insert(50)\n",
    "heap.heap_array"
   ]
  },
  {
   "cell_type": "code",
   "execution_count": 56,
   "id": "c05a0222",
   "metadata": {},
   "outputs": [
    {
     "data": {
      "text/plain": [
       "15"
      ]
     },
     "execution_count": 56,
     "metadata": {},
     "output_type": "execute_result"
    }
   ],
   "source": [
    "heap.pop()"
   ]
  },
  {
   "cell_type": "code",
   "execution_count": 57,
   "id": "05a8376f",
   "metadata": {},
   "outputs": [
    {
     "data": {
      "text/plain": [
       "[None, 50, 24, 9, 7, 10, 3]"
      ]
     },
     "execution_count": 57,
     "metadata": {},
     "output_type": "execute_result"
    }
   ],
   "source": [
    "heap.heap_array"
   ]
  },
  {
   "cell_type": "code",
   "execution_count": 58,
   "id": "b42d21b1",
   "metadata": {},
   "outputs": [
    {
     "data": {
      "text/plain": [
       "[None, 50, 24, 100, 7, 10, 3, 9]"
      ]
     },
     "execution_count": 58,
     "metadata": {},
     "output_type": "execute_result"
    }
   ],
   "source": [
    "heap.insert(100)\n",
    "heap.heap_array"
   ]
  },
  {
   "cell_type": "code",
   "execution_count": 59,
   "id": "0f7534b7",
   "metadata": {},
   "outputs": [
    {
     "data": {
      "text/plain": [
       "[None, 50, 24, 100, 40, 10, 3, 9, 7]"
      ]
     },
     "execution_count": 59,
     "metadata": {},
     "output_type": "execute_result"
    }
   ],
   "source": [
    "heap.insert(40)\n",
    "heap.heap_array"
   ]
  },
  {
   "cell_type": "code",
   "execution_count": 60,
   "id": "b2cfb197",
   "metadata": {},
   "outputs": [
    {
     "data": {
      "text/plain": [
       "[None, 100, 24, 9, 40, 10, 3, 7]"
      ]
     },
     "execution_count": 60,
     "metadata": {},
     "output_type": "execute_result"
    }
   ],
   "source": [
    "heap.pop()\n",
    "heap.heap_array"
   ]
  },
  {
   "cell_type": "markdown",
   "id": "fb3ab52c",
   "metadata": {},
   "source": [
    "## 시간복잡도는 log n 이다.\n",
    "\n",
    "* 완전 이진트리이기 때문"
   ]
  },
  {
   "cell_type": "code",
   "execution_count": null,
   "id": "25e43236",
   "metadata": {},
   "outputs": [],
   "source": []
  }
 ],
 "metadata": {
  "kernelspec": {
   "display_name": "Python 3 (ipykernel)",
   "language": "python",
   "name": "python3"
  },
  "language_info": {
   "codemirror_mode": {
    "name": "ipython",
    "version": 3
   },
   "file_extension": ".py",
   "mimetype": "text/x-python",
   "name": "python",
   "nbconvert_exporter": "python",
   "pygments_lexer": "ipython3",
   "version": "3.9.2"
  }
 },
 "nbformat": 4,
 "nbformat_minor": 5
}
