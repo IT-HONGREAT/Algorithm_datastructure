{
 "cells": [
  {
   "cell_type": "markdown",
   "id": "f6a8a948",
   "metadata": {},
   "source": [
    "# 그래프\n",
    "\n",
    "* 노드(node) 와 간선(edge)로 구성되어있다\n",
    "* 진입차수(in-degree) 진출차수(out-degree)\n",
    "* 경로길이 : 간선의 수\n",
    "* 단순경로 : 중복된 정점이 없는 경로 \n",
    "* 사이클 : 단순경로의 시작과 종료가 동일한 경우 \n",
    "\n",
    "### 방향과 무방향\n",
    "\n",
    "* 간선에 방향이 있으면 방향그래프 이다\n",
    "* 무방향은 양방향으로 사용이 가능하다\n",
    "\n",
    "### 그래프와 트리의 차이\n",
    "\n",
    "* 그래프는 상위 하위노드라는 개념이 존재 하지 않는다\n",
    "* 그래프는 사이클이 가능하고 순환 비순환 모드 존재한다."
   ]
  },
  {
   "cell_type": "markdown",
   "id": "fb928645",
   "metadata": {},
   "source": [
    "## BFS \n",
    "\n",
    "* 시간복잡도 : 노드 수 * 간선 수"
   ]
  },
  {
   "cell_type": "code",
   "execution_count": 9,
   "id": "943333e0",
   "metadata": {},
   "outputs": [
    {
     "data": {
      "text/plain": [
       "{'A': ['B', 'C'], 'B': ['D'], 'C': ['A', 'E'], 'D': ['B', 'E'], 'E': ['D']}"
      ]
     },
     "execution_count": 9,
     "metadata": {},
     "output_type": "execute_result"
    }
   ],
   "source": [
    "graph = {}\n",
    "\n",
    "graph['A'] = ['B','C']\n",
    "graph['B'] = ['D']\n",
    "graph['C'] = ['A','E']\n",
    "graph['D'] = ['B','E']\n",
    "graph['E'] = ['D']\n",
    "\n",
    "graph"
   ]
  },
  {
   "cell_type": "markdown",
   "id": "d61665d8",
   "metadata": {},
   "source": [
    "### 방문을 기록할 큐가 필요하다\n",
    "\n",
    "* visited queue : 방문이 완료된 큐\n",
    "* need visitied queue : 방문이 필요한 큐\n",
    "\n",
    "### 로직\n",
    "\n",
    "1. 처음의 노드가 need 에 들어가고 나온다\n",
    "2. 나오면 방문이 완료된 큐에 들어간다\n",
    "3. 나온 노드의 value에 들어있던 노드들이 need 큐에 들어간다.\n",
    "4. need 큐에서 FIFO방식으로 노드들이 나오게 되는 것이다.\n",
    "5. 만약 노드가 visited에 있으면 그 턴은 무시한다.\n",
    "\n",
    "\n",
    "**즉 큐의 원리를 이용해서 알고리즘을 구현할 수 있다** "
   ]
  },
  {
   "cell_type": "code",
   "execution_count": 10,
   "id": "3d268133",
   "metadata": {},
   "outputs": [],
   "source": [
    "def bfs(graph, start_node):\n",
    "    visited = []\n",
    "    need_visit = []\n",
    "    \n",
    "    need_visit.append(start_node)\n",
    "    \n",
    "    while need_visit:\n",
    "        node = need_visit.pop(0)\n",
    "        if node not in visited:\n",
    "            visited.append(node)\n",
    "            need_visit.extend(graph[node])\n",
    "            \n",
    "    return visited\n",
    "\n"
   ]
  },
  {
   "cell_type": "code",
   "execution_count": 11,
   "id": "45341d3a",
   "metadata": {},
   "outputs": [
    {
     "data": {
      "text/plain": [
       "['A', 'B', 'C', 'D', 'E']"
      ]
     },
     "execution_count": 11,
     "metadata": {},
     "output_type": "execute_result"
    }
   ],
   "source": [
    "bfs(graph,'A')"
   ]
  },
  {
   "cell_type": "markdown",
   "id": "9f5fdb77",
   "metadata": {},
   "source": [
    "## DFS\n",
    "\n",
    "* 시간복잡도 : 노드 수 * 간선 수"
   ]
  },
  {
   "cell_type": "markdown",
   "id": "fdd26a54",
   "metadata": {},
   "source": [
    "### 스택, 큐가 필요하다\n",
    "\n",
    "* visited queue : 방문이 완료된 큐\n",
    "* need visitied stack : 방문이 필요한  노드를 스택으로 처리한다.\n",
    "\n",
    "### 로직\n",
    "\n",
    "1. 시작노드를 인식 -> 방문해야할 노드리스트 need_visit에 넣어준다\n",
    "2. need_visit 리스트가 비어있지 않는한 반복된다\n",
    "3. need_visit 리스트를 스택의 개념으로 바라본다. 그리고 뒤에서 (pop) 노드를 꺼내준다.\n",
    "4. 그 노드가 방문한노드의 리스트에 없다면, 방문을 하지 않은 것이므로, 방문한 노드 리스트에 추가해준다.\n",
    "5. 그리고 방문해야할 노드리스트에 조금전 방문한 노드와 연결된 것들을 다시 넣어준다.이 때, 노드가 리스트 형태이기 때문에extend를 사용해서 리스트안의 원소를 넣어줘야한다.\n",
    "\n",
    "\n"
   ]
  },
  {
   "cell_type": "code",
   "execution_count": 2,
   "id": "18d2a65f",
   "metadata": {},
   "outputs": [
    {
     "data": {
      "text/plain": [
       "{'A': ['B', 'C'], 'B': ['D'], 'C': ['A', 'E'], 'D': ['B', 'E'], 'E': ['D']}"
      ]
     },
     "execution_count": 2,
     "metadata": {},
     "output_type": "execute_result"
    }
   ],
   "source": [
    "graph = {}\n",
    "\n",
    "graph['A'] = ['B','C']\n",
    "graph['B'] = ['D']\n",
    "graph['C'] = ['A','E']\n",
    "graph['D'] = ['B','E']\n",
    "graph['E'] = ['D']\n",
    "\n",
    "graph"
   ]
  },
  {
   "cell_type": "code",
   "execution_count": 7,
   "id": "a5697841",
   "metadata": {},
   "outputs": [],
   "source": [
    "def dfs(graph, start_node):\n",
    "    visited, need_visit = [], []\n",
    "    need_visit.append(start_node)\n",
    "    \n",
    "    while need_visit:\n",
    "        node = need_visit.pop()\n",
    "        if node not in visited:\n",
    "            visited.append(node)\n",
    "            need_visit.extend(graph[node])\n",
    "            \n",
    "    return visited"
   ]
  },
  {
   "cell_type": "code",
   "execution_count": 8,
   "id": "4d031706",
   "metadata": {},
   "outputs": [
    {
     "data": {
      "text/plain": [
       "['A', 'C', 'E', 'D', 'B']"
      ]
     },
     "execution_count": 8,
     "metadata": {},
     "output_type": "execute_result"
    }
   ],
   "source": [
    "dfs(graph,\"A\")"
   ]
  },
  {
   "cell_type": "code",
   "execution_count": null,
   "id": "740a0d0f",
   "metadata": {},
   "outputs": [],
   "source": []
  }
 ],
 "metadata": {
  "kernelspec": {
   "display_name": "Python 3 (ipykernel)",
   "language": "python",
   "name": "python3"
  },
  "language_info": {
   "codemirror_mode": {
    "name": "ipython",
    "version": 3
   },
   "file_extension": ".py",
   "mimetype": "text/x-python",
   "name": "python",
   "nbconvert_exporter": "python",
   "pygments_lexer": "ipython3",
   "version": "3.9.2"
  }
 },
 "nbformat": 4,
 "nbformat_minor": 5
}
