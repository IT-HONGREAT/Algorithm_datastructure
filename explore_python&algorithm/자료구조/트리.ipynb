{
 "cells": [
  {
   "cell_type": "markdown",
   "id": "7e248732",
   "metadata": {},
   "source": [
    "## 이진탐색트리 로직"
   ]
  },
  {
   "cell_type": "markdown",
   "id": "38cdaf9c",
   "metadata": {},
   "source": [
    "### 트리 구현"
   ]
  },
  {
   "cell_type": "code",
   "execution_count": 6,
   "id": "29de40fa",
   "metadata": {},
   "outputs": [],
   "source": [
    "class Node:\n",
    "    def __init__(self,value):\n",
    "        self.value = value\n",
    "        self.left = None\n",
    "        self.right = None\n",
    "\n",
    "class NodeMgmt:\n",
    "    def __init__(self,head):\n",
    "        self.head = head\n",
    "        \n",
    "    def insert(self, value):\n",
    "        self.current_node = self.head\n",
    "        while True:\n",
    "            #넣어줄 값이 현재노드보다 작을 때\n",
    "            if value < self.current_node.value:\n",
    "                #왼쪽하위노드가 있다면\n",
    "                if self.current_node.left != None:\n",
    "                    #현재노드로 변경\n",
    "                    self.current_node = self.current_node.left\n",
    "                #없다면 왼쪽하위노드로 지정\n",
    "                else:\n",
    "                    self.current_node.left = Node(value)\n",
    "                    break\n",
    "            #넣어줄 값이 현재노드보다 크거나 같을 때는 오른쪽하위로 가야겠다.      \n",
    "            else:\n",
    "                #오른쪽하위노드가 있다면\n",
    "                if self.current_node.right != None:\n",
    "                    #그것을 현재노드로\n",
    "                    self.current_node = self.current_node.right\n",
    "                #없다면\n",
    "                else:\n",
    "                    #그것을 오른쪽하위노드로 지정\n",
    "                    self.current_node.right = Node(value)\n",
    "                    break\n",
    "    #탐색 메소드\n",
    "    def search(self, value):\n",
    "        self.current_node = self.head\n",
    "        \n",
    "        #노드의 값이 있다는 하에 전체 탐색 : 값이 동일하면 True / \n",
    "        while self.current_node:\n",
    "            #동일하면\n",
    "            if self.current_node.value == value:\n",
    "                return True\n",
    "            #찾고자하는 값이 노드보다 작다면 왼쪽하위를 현재노드화 하면서 탐색\n",
    "            elif value < self.current_node.value:\n",
    "                self.current_node = self.current_node.left\n",
    "            #크거나 같다면 오른쪽하위노드를 현재노드화 하면서 탐색\n",
    "            else:\n",
    "                self.current_node = self.current_node.right\n",
    "        #전체 탐색후 없다면 False반환\n",
    "        return False\n",
    "               \n",
    "                    \n",
    "                    \n",
    "            \n",
    "                "
   ]
  },
  {
   "cell_type": "markdown",
   "id": "a93b3431",
   "metadata": {},
   "source": [
    "* 테스트"
   ]
  },
  {
   "cell_type": "code",
   "execution_count": 7,
   "id": "412ed637",
   "metadata": {},
   "outputs": [],
   "source": [
    "head = Node(1)\n",
    "Search = NodeMgmt(head)\n",
    "Search.insert(5)\n",
    "Search.insert(10)\n",
    "Search.insert(3)\n",
    "Search.insert(2)\n",
    "\n"
   ]
  },
  {
   "cell_type": "code",
   "execution_count": 16,
   "id": "19b7903f",
   "metadata": {},
   "outputs": [
    {
     "data": {
      "text/plain": [
       "False"
      ]
     },
     "execution_count": 16,
     "metadata": {},
     "output_type": "execute_result"
    }
   ],
   "source": [
    "Search.search(4)"
   ]
  },
  {
   "cell_type": "markdown",
   "id": "64ed3d43",
   "metadata": {},
   "source": [
    "## 이진 탐색 트리 삭제코드 구현과 분석\n",
    "\n",
    "### 개념자체가 어렵기 때문에 divide&conquer 화 하여 경우의 수를 세분화하자\n",
    "\n",
    "1. 삭제할 노드를 탐색한다\n",
    "    - 삭제할 노드가 없다고 해도 처리해줘야하기 때문\n",
    "    - 만약 삭제 할 노드가 없다면 False를 리턴하고 함수를 종료\n"
   ]
  },
  {
   "cell_type": "code",
   "execution_count": null,
   "id": "2604a3eb",
   "metadata": {},
   "outputs": [],
   "source": [
    "# 삭제메소드\n",
    "\n",
    "def delete(self, value):\n",
    "    searched = False\n",
    "    self.current_node = self.head\n",
    "    self.parent = self.head\n",
    "    while self.current_node:\n",
    "        if self.currunt_node.value:\n",
    "            searched = True\n",
    "            break\n",
    "        \n",
    "        elif value < self.current_node.value:\n",
    "            self.parent = self.current_node\n",
    "            self.current_node = self.current_node.left\n",
    "            \n",
    "        else:\n",
    "            self.parent = self.current_node\n",
    "            self.current_node - self.current_node.right\n",
    "            \n",
    "    if searched == False:\n",
    "        return False\n",
    "    \n",
    "    \"\"\"\n",
    "    케이스가 3가지가 있음\n",
    "    \"\"\"\n",
    "    \n",
    "    "
   ]
  }
 ],
 "metadata": {
  "kernelspec": {
   "display_name": "Python 3 (ipykernel)",
   "language": "python",
   "name": "python3"
  },
  "language_info": {
   "codemirror_mode": {
    "name": "ipython",
    "version": 3
   },
   "file_extension": ".py",
   "mimetype": "text/x-python",
   "name": "python",
   "nbconvert_exporter": "python",
   "pygments_lexer": "ipython3",
   "version": "3.9.2"
  }
 },
 "nbformat": 4,
 "nbformat_minor": 5
}
