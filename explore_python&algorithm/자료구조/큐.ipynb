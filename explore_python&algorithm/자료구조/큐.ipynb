{
 "cells": [
  {
   "cell_type": "code",
   "execution_count": 1,
   "id": "78dc3d80",
   "metadata": {},
   "outputs": [],
   "source": [
    "import queue"
   ]
  },
  {
   "cell_type": "code",
   "execution_count": 2,
   "id": "39777e28",
   "metadata": {},
   "outputs": [],
   "source": [
    "data = queue.Queue()"
   ]
  },
  {
   "cell_type": "code",
   "execution_count": 3,
   "id": "c637d568",
   "metadata": {},
   "outputs": [
    {
     "data": {
      "text/plain": [
       "<queue.Queue at 0x7fae2933a4c0>"
      ]
     },
     "execution_count": 3,
     "metadata": {},
     "output_type": "execute_result"
    }
   ],
   "source": [
    "data"
   ]
  },
  {
   "cell_type": "code",
   "execution_count": 4,
   "id": "b1af74e1",
   "metadata": {},
   "outputs": [],
   "source": [
    "data.put('test1')"
   ]
  },
  {
   "cell_type": "code",
   "execution_count": 5,
   "id": "1c9fbd59",
   "metadata": {},
   "outputs": [
    {
     "data": {
      "text/plain": [
       "<queue.Queue at 0x7fae2933a4c0>"
      ]
     },
     "execution_count": 5,
     "metadata": {},
     "output_type": "execute_result"
    }
   ],
   "source": [
    "data"
   ]
  },
  {
   "cell_type": "code",
   "execution_count": 6,
   "id": "56e1312b",
   "metadata": {},
   "outputs": [],
   "source": [
    "data.put('2')"
   ]
  },
  {
   "cell_type": "code",
   "execution_count": 8,
   "id": "0ff94a76",
   "metadata": {},
   "outputs": [
    {
     "data": {
      "text/plain": [
       "2"
      ]
     },
     "execution_count": 8,
     "metadata": {},
     "output_type": "execute_result"
    }
   ],
   "source": [
    "data.qsize()"
   ]
  },
  {
   "cell_type": "code",
   "execution_count": 9,
   "id": "42269342",
   "metadata": {},
   "outputs": [
    {
     "data": {
      "text/plain": [
       "'test1'"
      ]
     },
     "execution_count": 9,
     "metadata": {},
     "output_type": "execute_result"
    }
   ],
   "source": [
    "data.get()"
   ]
  },
  {
   "cell_type": "code",
   "execution_count": 10,
   "id": "b790388e",
   "metadata": {},
   "outputs": [
    {
     "data": {
      "text/plain": [
       "'2'"
      ]
     },
     "execution_count": 10,
     "metadata": {},
     "output_type": "execute_result"
    }
   ],
   "source": [
    "data.get()"
   ]
  },
  {
   "cell_type": "code",
   "execution_count": 11,
   "id": "43701a34",
   "metadata": {},
   "outputs": [
    {
     "data": {
      "text/plain": [
       "0"
      ]
     },
     "execution_count": 11,
     "metadata": {},
     "output_type": "execute_result"
    }
   ],
   "source": [
    "data.qsize()"
   ]
  },
  {
   "cell_type": "markdown",
   "id": "43e42196",
   "metadata": {},
   "source": [
    "# LIFO 큐"
   ]
  },
  {
   "cell_type": "code",
   "execution_count": 12,
   "id": "6d16571d",
   "metadata": {},
   "outputs": [],
   "source": [
    "lifo = queue.LifoQueue()"
   ]
  },
  {
   "cell_type": "code",
   "execution_count": 13,
   "id": "17309668",
   "metadata": {},
   "outputs": [],
   "source": [
    "lifo.put(\"test1\")\n",
    "lifo.put(\"test2\")"
   ]
  },
  {
   "cell_type": "code",
   "execution_count": 14,
   "id": "b880dbee",
   "metadata": {},
   "outputs": [
    {
     "data": {
      "text/plain": [
       "'test2'"
      ]
     },
     "execution_count": 14,
     "metadata": {},
     "output_type": "execute_result"
    }
   ],
   "source": [
    "lifo.get()"
   ]
  },
  {
   "cell_type": "markdown",
   "id": "52a81d47",
   "metadata": {},
   "source": [
    "# Priority 큐"
   ]
  },
  {
   "cell_type": "code",
   "execution_count": 15,
   "id": "c923b99a",
   "metadata": {},
   "outputs": [],
   "source": [
    "priq = queue.PriorityQueue()"
   ]
  },
  {
   "cell_type": "code",
   "execution_count": 16,
   "id": "8a007605",
   "metadata": {},
   "outputs": [],
   "source": [
    "priq.put((10,'test1'))"
   ]
  },
  {
   "cell_type": "code",
   "execution_count": 17,
   "id": "67d20864",
   "metadata": {},
   "outputs": [],
   "source": [
    "priq.put((5,'test2'))\n",
    "priq.put((1,'test3'))"
   ]
  },
  {
   "cell_type": "code",
   "execution_count": 18,
   "id": "5e9a2ebb",
   "metadata": {},
   "outputs": [
    {
     "data": {
      "text/plain": [
       "(1, 'test3')"
      ]
     },
     "execution_count": 18,
     "metadata": {},
     "output_type": "execute_result"
    }
   ],
   "source": [
    "priq.get()"
   ]
  },
  {
   "cell_type": "code",
   "execution_count": 19,
   "id": "a96d9ff0",
   "metadata": {},
   "outputs": [
    {
     "data": {
      "text/plain": [
       "2"
      ]
     },
     "execution_count": 19,
     "metadata": {},
     "output_type": "execute_result"
    }
   ],
   "source": [
    "priq.qsize()"
   ]
  },
  {
   "cell_type": "code",
   "execution_count": 20,
   "id": "5315476c",
   "metadata": {},
   "outputs": [],
   "source": [
    "priq.put((2,'test4'))\n",
    "priq.put((8,'test5'))"
   ]
  },
  {
   "cell_type": "code",
   "execution_count": 21,
   "id": "ef07ca81",
   "metadata": {},
   "outputs": [
    {
     "data": {
      "text/plain": [
       "(2, 'test4')"
      ]
     },
     "execution_count": 21,
     "metadata": {},
     "output_type": "execute_result"
    }
   ],
   "source": [
    "priq.get()"
   ]
  },
  {
   "cell_type": "code",
   "execution_count": 22,
   "id": "e3e7669c",
   "metadata": {},
   "outputs": [
    {
     "data": {
      "text/plain": [
       "(5, 'test2')"
      ]
     },
     "execution_count": 22,
     "metadata": {},
     "output_type": "execute_result"
    }
   ],
   "source": [
    "priq.get()"
   ]
  },
  {
   "cell_type": "code",
   "execution_count": 23,
   "id": "5c7fa93c",
   "metadata": {},
   "outputs": [
    {
     "data": {
      "text/plain": [
       "(8, 'test5')"
      ]
     },
     "execution_count": 23,
     "metadata": {},
     "output_type": "execute_result"
    }
   ],
   "source": [
    "priq.get()"
   ]
  },
  {
   "cell_type": "code",
   "execution_count": 24,
   "id": "02217120",
   "metadata": {},
   "outputs": [
    {
     "data": {
      "text/plain": [
       "(10, 'test1')"
      ]
     },
     "execution_count": 24,
     "metadata": {},
     "output_type": "execute_result"
    }
   ],
   "source": [
    "priq.get()"
   ]
  },
  {
   "cell_type": "code",
   "execution_count": 25,
   "id": "c72e1dfe",
   "metadata": {},
   "outputs": [
    {
     "name": "stdout",
     "output_type": "stream",
     "text": [
      "0\n"
     ]
    }
   ],
   "source": [
    "print(priq.qsize())"
   ]
  }
 ],
 "metadata": {
  "kernelspec": {
   "display_name": "Python 3 (ipykernel)",
   "language": "python",
   "name": "python3"
  },
  "language_info": {
   "codemirror_mode": {
    "name": "ipython",
    "version": 3
   },
   "file_extension": ".py",
   "mimetype": "text/x-python",
   "name": "python",
   "nbconvert_exporter": "python",
   "pygments_lexer": "ipython3",
   "version": "3.9.2"
  }
 },
 "nbformat": 4,
 "nbformat_minor": 5
}
