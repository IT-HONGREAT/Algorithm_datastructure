{
 "cells": [
  {
   "cell_type": "markdown",
   "id": "8f1a90e4",
   "metadata": {},
   "source": [
    "## 1~num 곱이 출력"
   ]
  },
  {
   "cell_type": "code",
   "execution_count": 5,
   "id": "bad0e56c",
   "metadata": {},
   "outputs": [
    {
     "name": "stdout",
     "output_type": "stream",
     "text": [
      "1\n",
      "2\n",
      "6\n",
      "24\n",
      "120\n",
      "720\n",
      "5040\n",
      "40320\n",
      "362880\n",
      "3628800\n"
     ]
    }
   ],
   "source": [
    "num = 10\n",
    "save =1\n",
    "for i in range(1,num+1):\n",
    "\n",
    "    save *= i\n",
    "    print(save)"
   ]
  },
  {
   "cell_type": "code",
   "execution_count": 6,
   "id": "3d9bcdfe",
   "metadata": {},
   "outputs": [],
   "source": [
    "def multiple(num):\n",
    "    if num <= 1:\n",
    "        return num\n",
    "    else:\n",
    "        return num * multiple(num-1)\n",
    "        \n",
    "        "
   ]
  },
  {
   "cell_type": "code",
   "execution_count": 10,
   "id": "947a825b",
   "metadata": {},
   "outputs": [
    {
     "name": "stdout",
     "output_type": "stream",
     "text": [
      "1\n",
      "2\n",
      "6\n",
      "24\n",
      "120\n",
      "720\n",
      "5040\n",
      "40320\n",
      "362880\n",
      "3628800\n"
     ]
    }
   ],
   "source": [
    "for i in range(1,11):\n",
    "    print(multiple(i))"
   ]
  },
  {
   "cell_type": "markdown",
   "id": "2c656d86",
   "metadata": {},
   "source": [
    "## 리스트의 합을 리턴하는함수"
   ]
  },
  {
   "cell_type": "code",
   "execution_count": 12,
   "id": "0d80a9e3",
   "metadata": {},
   "outputs": [
    {
     "name": "stdout",
     "output_type": "stream",
     "text": [
      "[50, 17, 35, 52, 26, 71, 10, 58, 75, 4]\n"
     ]
    }
   ],
   "source": [
    "import random\n",
    "data = random.sample(range(1,101),10)\n",
    "print(data)"
   ]
  },
  {
   "cell_type": "code",
   "execution_count": 22,
   "id": "05fc6c7e",
   "metadata": {},
   "outputs": [],
   "source": [
    "def sum_list(data):\n",
    "    if len(data) <= 1:\n",
    "        return data[0]\n",
    "    \n",
    "    else:\n",
    "        return data[0] + sum_list(data[1:])"
   ]
  },
  {
   "cell_type": "code",
   "execution_count": 25,
   "id": "bcf5cb4b",
   "metadata": {},
   "outputs": [
    {
     "name": "stdout",
     "output_type": "stream",
     "text": [
      "398\n",
      "398\n"
     ]
    }
   ],
   "source": [
    "print(sum_list(data))\n",
    "print(sum(data))\n",
    "    "
   ]
  },
  {
   "cell_type": "markdown",
   "id": "3f55b353",
   "metadata": {},
   "source": [
    "## 팰린드롬 구분함수 생성"
   ]
  },
  {
   "cell_type": "code",
   "execution_count": 34,
   "id": "085c2c64",
   "metadata": {},
   "outputs": [],
   "source": [
    "string = 'level'"
   ]
  },
  {
   "cell_type": "markdown",
   "id": "e034784f",
   "metadata": {},
   "source": [
    "### mine"
   ]
  },
  {
   "cell_type": "code",
   "execution_count": 36,
   "id": "aff4455a",
   "metadata": {},
   "outputs": [],
   "source": [
    "for i,j in zip(string,string[::-1]):\n",
    "    if i != j:\n",
    "        print(\"different!\")\n",
    "        break\n",
    "    \n",
    "        "
   ]
  },
  {
   "cell_type": "markdown",
   "id": "194e045a",
   "metadata": {},
   "source": [
    "### 재귀로 구현"
   ]
  },
  {
   "cell_type": "code",
   "execution_count": 41,
   "id": "bde4677e",
   "metadata": {},
   "outputs": [],
   "source": [
    "def palindrome(string):\n",
    "    if len(string) <=1:\n",
    "        return True\n",
    "    \n",
    "    if string[0] == string[-1:]:\n",
    "        return palindrome(string[1:-1])\n",
    "    else:\n",
    "        return False\n",
    "    "
   ]
  },
  {
   "cell_type": "code",
   "execution_count": 45,
   "id": "7fe7c271",
   "metadata": {},
   "outputs": [
    {
     "data": {
      "text/plain": [
       "True"
      ]
     },
     "execution_count": 45,
     "metadata": {},
     "output_type": "execute_result"
    }
   ],
   "source": [
    "palindrome('level')"
   ]
  },
  {
   "cell_type": "code",
   "execution_count": null,
   "id": "3a4a9e7c",
   "metadata": {},
   "outputs": [],
   "source": []
  }
 ],
 "metadata": {
  "kernelspec": {
   "display_name": "Python 3 (ipykernel)",
   "language": "python",
   "name": "python3"
  },
  "language_info": {
   "codemirror_mode": {
    "name": "ipython",
    "version": 3
   },
   "file_extension": ".py",
   "mimetype": "text/x-python",
   "name": "python",
   "nbconvert_exporter": "python",
   "pygments_lexer": "ipython3",
   "version": "3.9.2"
  }
 },
 "nbformat": 4,
 "nbformat_minor": 5
}
