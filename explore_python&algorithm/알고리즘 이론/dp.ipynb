{
 "cells": [
  {
   "cell_type": "markdown",
   "id": "fcfc482e",
   "metadata": {},
   "source": [
    "# 피보나치를 예로 들어서 dp 구현\n",
    "* memoization기법\n"
   ]
  },
  {
   "cell_type": "code",
   "execution_count": 2,
   "id": "e13ff239",
   "metadata": {},
   "outputs": [],
   "source": [
    "def fibo(num):\n",
    "    cache = [0 for i in range(num+1)]\n",
    "    cache[0] = 0 \n",
    "    cache[1] = 1\n",
    "    \n",
    "    for i in range(2, num+1):\n",
    "        cache[i] = cache[i-1] + cache[i-2]\n",
    "    \n",
    "    return cache[num]"
   ]
  },
  {
   "cell_type": "code",
   "execution_count": 3,
   "id": "c5d5c6be",
   "metadata": {},
   "outputs": [
    {
     "data": {
      "text/plain": [
       "55"
      ]
     },
     "execution_count": 3,
     "metadata": {},
     "output_type": "execute_result"
    }
   ],
   "source": [
    "fibo(10)"
   ]
  },
  {
   "cell_type": "code",
   "execution_count": 5,
   "id": "a9708919",
   "metadata": {},
   "outputs": [
    {
     "name": "stdout",
     "output_type": "stream",
     "text": [
      "1\n",
      "1\n",
      "2\n",
      "3\n",
      "5\n",
      "8\n",
      "13\n",
      "21\n",
      "34\n",
      "55\n"
     ]
    }
   ],
   "source": [
    "for i in range(1,11):\n",
    "    print(fibo(i))"
   ]
  },
  {
   "cell_type": "code",
   "execution_count": null,
   "id": "fdb9ecf8",
   "metadata": {},
   "outputs": [],
   "source": []
  }
 ],
 "metadata": {
  "kernelspec": {
   "display_name": "Python 3 (ipykernel)",
   "language": "python",
   "name": "python3"
  },
  "language_info": {
   "codemirror_mode": {
    "name": "ipython",
    "version": 3
   },
   "file_extension": ".py",
   "mimetype": "text/x-python",
   "name": "python",
   "nbconvert_exporter": "python",
   "pygments_lexer": "ipython3",
   "version": "3.9.2"
  }
 },
 "nbformat": 4,
 "nbformat_minor": 5
}
