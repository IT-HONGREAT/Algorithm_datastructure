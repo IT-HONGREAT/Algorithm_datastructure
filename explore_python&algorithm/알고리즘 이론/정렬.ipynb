{
 "cells": [
  {
   "cell_type": "markdown",
   "id": "1a2c604e",
   "metadata": {},
   "source": [
    "## 버블정렬 o**2"
   ]
  },
  {
   "cell_type": "code",
   "execution_count": 1,
   "id": "8a375067",
   "metadata": {},
   "outputs": [
    {
     "name": "stdout",
     "output_type": "stream",
     "text": [
      "[2, 5, 3, 1]\n",
      "[2, 3, 5, 1]\n",
      "[2, 3, 1, 5]\n",
      "[2, 1, 3, 5]\n",
      "[1, 2, 3, 5]\n"
     ]
    }
   ],
   "source": [
    "test = [5,2,3,1]\n",
    "\n",
    "\n",
    "for i in range(len(test)-1):\n",
    "    for j in range(len(test)-i-1):\n",
    "        if test[j] > test[j+1]:\n",
    "            test[j],test[j+1] = test[j+1],test[j]\n",
    "            \n",
    "            print(test)"
   ]
  },
  {
   "cell_type": "markdown",
   "id": "1221af63",
   "metadata": {},
   "source": [
    "## 선택정렬 o**2"
   ]
  },
  {
   "cell_type": "code",
   "execution_count": 2,
   "id": "0eeec497",
   "metadata": {},
   "outputs": [
    {
     "name": "stdout",
     "output_type": "stream",
     "text": [
      "[10, 5, 11, 124, 4, 2, 6, 1]\n",
      "[1, 5, 11, 124, 4, 2, 6, 10]\n",
      "[1, 2, 11, 124, 4, 5, 6, 10]\n",
      "[1, 2, 4, 124, 11, 5, 6, 10]\n",
      "[1, 2, 4, 5, 11, 124, 6, 10]\n",
      "[1, 2, 4, 5, 6, 124, 11, 10]\n",
      "[1, 2, 4, 5, 6, 10, 11, 124]\n"
     ]
    }
   ],
   "source": [
    "test = [10,5,11,124,4,2,6,1]\n",
    "\n",
    "for i in range(len(test)-1):\n",
    "    minimum = i\n",
    "    for idx in range(i+1,len(test)):\n",
    "        if test[minimum] > test[idx]:\n",
    "            minimum = idx     \n",
    "    print(test) \n",
    "    test[minimum],test[i] = test[i],test[minimum]\n",
    "       \n",
    "    "
   ]
  },
  {
   "cell_type": "markdown",
   "id": "68573951",
   "metadata": {},
   "source": [
    "## 삽입정렬 o**2"
   ]
  },
  {
   "cell_type": "code",
   "execution_count": 3,
   "id": "8f24bf33",
   "metadata": {},
   "outputs": [
    {
     "name": "stdout",
     "output_type": "stream",
     "text": [
      "data : [17, 40, 44, 10, 83, 16, 43, 65, 94, 91]\n",
      "idx: 0 //idx2: 0\n",
      "[17, 40, 44, 10, 83, 16, 43, 65, 94, 91]\n",
      "\n",
      "next idx\n",
      "idx: 1 //idx2: 1\n",
      "[17, 40, 44, 10, 83, 16, 43, 65, 94, 91]\n",
      "\n",
      "next idx\n",
      "idx: 2 //idx2: 2\n",
      "[17, 40, 44, 10, 83, 16, 43, 65, 94, 91]\n",
      "\n",
      "idx: 2 //idx2: 2\n",
      "[17, 40, 10, 44, 83, 16, 43, 65, 94, 91]\n",
      "\n",
      "idx: 2 //idx2: 2\n",
      "[17, 10, 40, 44, 83, 16, 43, 65, 94, 91]\n",
      "\n",
      "idx: 3 //idx2: 3\n",
      "[10, 17, 40, 44, 83, 16, 43, 65, 94, 91]\n",
      "\n",
      "next idx\n",
      "idx: 4 //idx2: 4\n",
      "[10, 17, 40, 44, 83, 16, 43, 65, 94, 91]\n",
      "\n",
      "idx: 4 //idx2: 4\n",
      "[10, 17, 40, 44, 16, 83, 43, 65, 94, 91]\n",
      "\n",
      "idx: 4 //idx2: 4\n",
      "[10, 17, 40, 16, 44, 83, 43, 65, 94, 91]\n",
      "\n",
      "idx: 4 //idx2: 4\n",
      "[10, 17, 16, 40, 44, 83, 43, 65, 94, 91]\n",
      "\n",
      "idx: 4 //idx2: 4\n",
      "[10, 16, 17, 40, 44, 83, 43, 65, 94, 91]\n",
      "\n",
      "next idx\n",
      "idx: 5 //idx2: 5\n",
      "[10, 16, 17, 40, 44, 83, 43, 65, 94, 91]\n",
      "\n",
      "idx: 5 //idx2: 5\n",
      "[10, 16, 17, 40, 44, 43, 83, 65, 94, 91]\n",
      "\n",
      "idx: 5 //idx2: 5\n",
      "[10, 16, 17, 40, 43, 44, 83, 65, 94, 91]\n",
      "\n",
      "next idx\n",
      "idx: 6 //idx2: 6\n",
      "[10, 16, 17, 40, 43, 44, 83, 65, 94, 91]\n",
      "\n",
      "idx: 6 //idx2: 6\n",
      "[10, 16, 17, 40, 43, 44, 65, 83, 94, 91]\n",
      "\n",
      "next idx\n",
      "idx: 7 //idx2: 7\n",
      "[10, 16, 17, 40, 43, 44, 65, 83, 94, 91]\n",
      "\n",
      "next idx\n",
      "idx: 8 //idx2: 8\n",
      "[10, 16, 17, 40, 43, 44, 65, 83, 94, 91]\n",
      "\n",
      "idx: 8 //idx2: 8\n",
      "[10, 16, 17, 40, 43, 44, 65, 83, 91, 94]\n",
      "\n",
      "next idx\n"
     ]
    }
   ],
   "source": [
    "import random\n",
    "data = random.sample(range(100),10)\n",
    "print('data :',data)\n",
    "\n",
    "for idx in range(len(data)-1):\n",
    "    for idx2 in range(idx+1,0,-1):\n",
    "        print(\"idx:\",idx,'//idx2:',idx)\n",
    "        print(data)\n",
    "        print()\n",
    "        if data[idx2] < data[idx2-1]:\n",
    "            data[idx2],data[idx2-1] = data[idx2-1], data[idx2]\n",
    "#             print('next idx')\n",
    "        else:\n",
    "            print('next idx')\n",
    "            break\n",
    "\n"
   ]
  },
  {
   "cell_type": "markdown",
   "id": "fc32d419",
   "metadata": {},
   "source": [
    "# 고급정렬"
   ]
  },
  {
   "cell_type": "markdown",
   "id": "7111650a",
   "metadata": {},
   "source": [
    "## 퀵정렬 nlogn"
   ]
  },
  {
   "cell_type": "code",
   "execution_count": 4,
   "id": "1dfc9558",
   "metadata": {},
   "outputs": [],
   "source": [
    "def qsort(data):\n",
    "    if len(data) <= 1:\n",
    "        return data\n",
    "    \n",
    "    left, right = [],[]\n",
    "    pivot = data[0]\n",
    "    \n",
    "    for i in range(1, len(data)):\n",
    "        if pivot > data[i]:\n",
    "            left.append(data[i])\n",
    "        else:\n",
    "            right.append(data[i])\n",
    "\n",
    "    return qsort(left) + [pivot] + qsort(right)\n",
    "    "
   ]
  },
  {
   "cell_type": "code",
   "execution_count": 5,
   "id": "d56f93b7",
   "metadata": {},
   "outputs": [
    {
     "data": {
      "text/plain": [
       "[6, 41, 49, 63, 70, 76, 79, 83, 84, 99]"
      ]
     },
     "execution_count": 5,
     "metadata": {},
     "output_type": "execute_result"
    }
   ],
   "source": [
    "test = random.sample(range(1,100),10)\n",
    "qsort(test)"
   ]
  },
  {
   "cell_type": "markdown",
   "id": "dbcf8bf3",
   "metadata": {},
   "source": [
    "* 똑같은 로직인데 리스트 컴프리헨션사용"
   ]
  },
  {
   "cell_type": "code",
   "execution_count": 6,
   "id": "49fdd867",
   "metadata": {},
   "outputs": [],
   "source": [
    "def qsort_lc(data):\n",
    "    if len(data) <= 1:\n",
    "        return data\n",
    "    \n",
    "    pivot = data[0]\n",
    "    \n",
    "    left = [item for item in data[1:] if pivot > item]\n",
    "    right = [item for item in data[1:] if pivot <= item]\n",
    "    \n",
    "\n",
    "\n",
    "    return qsort_lc(left) + [pivot] + qsort_lc(right)\n",
    "    "
   ]
  },
  {
   "cell_type": "code",
   "execution_count": 7,
   "id": "54761b14",
   "metadata": {},
   "outputs": [
    {
     "data": {
      "text/plain": [
       "[6, 41, 49, 63, 70, 76, 79, 83, 84, 99]"
      ]
     },
     "execution_count": 7,
     "metadata": {},
     "output_type": "execute_result"
    }
   ],
   "source": [
    "qsort_lc(test)\n"
   ]
  },
  {
   "cell_type": "markdown",
   "id": "93a5bad8",
   "metadata": {},
   "source": [
    "## 병합정렬 "
   ]
  },
  {
   "cell_type": "markdown",
   "id": "6abf7750",
   "metadata": {},
   "source": [
    "* 리스트 분할"
   ]
  },
  {
   "cell_type": "code",
   "execution_count": 8,
   "id": "c005e140",
   "metadata": {},
   "outputs": [],
   "source": [
    "def split(data):\n",
    "    mid = len(data)// 2\n",
    "    left = data[:mid]\n",
    "    right = data[mid:]\n",
    "    return left,right"
   ]
  },
  {
   "cell_type": "code",
   "execution_count": 9,
   "id": "8cf20d95",
   "metadata": {},
   "outputs": [
    {
     "data": {
      "text/plain": [
       "([1, 2], [3, 4, 5])"
      ]
     },
     "execution_count": 9,
     "metadata": {},
     "output_type": "execute_result"
    }
   ],
   "source": [
    "split([1,2,3,4,5])"
   ]
  },
  {
   "cell_type": "markdown",
   "id": "20c8bc9d",
   "metadata": {},
   "source": [
    "* 재귀로 분리"
   ]
  },
  {
   "cell_type": "code",
   "execution_count": 10,
   "id": "4e949ff4",
   "metadata": {},
   "outputs": [],
   "source": [
    "def mergesplit(data):\n",
    "    if len(data) <= 1:\n",
    "        return data\n",
    "    mid = len(data) // 2\n",
    "    left = mergesplit(data[:mid])\n",
    "    right = mergesplit(data[mid:])\n",
    "    return merge(left,right)"
   ]
  },
  {
   "cell_type": "code",
   "execution_count": 11,
   "id": "d8ef7b66",
   "metadata": {},
   "outputs": [],
   "source": [
    "def merge(left, right):\n",
    "    merged = list()\n",
    "    left_point, right_point = 0,0\n",
    "    \n",
    "    #1 left/right 가 아직 남아있을때\n",
    "    while len(left) > left_point and len(right) > right_point:\n",
    "        if left[left_point] > right[right_point]:\n",
    "            merged.append(right[right_point])\n",
    "            right_point += 1\n",
    "            \n",
    "        else:\n",
    "            merged.append(left[left_point])\n",
    "            left_point += 1\n",
    "            \n",
    "    #2 left 만 남아있을 때\n",
    "    while len(left) > left_point:\n",
    "        merged.append(left[left_point])\n",
    "        left_point += 1\n",
    "        \n",
    "    \n",
    "    #3 right 만 남아있을 때\n",
    "    \n",
    "    while len(right) > right_point:\n",
    "        merged.append(right[right_point])\n",
    "        right_point += 1\n",
    "        \n",
    "    return merged\n",
    "\n",
    "def mergesplit(data):\n",
    "    if len(data) <= 1:\n",
    "        return data\n",
    "    mid = len(data) // 2\n",
    "    left = mergesplit(data[:mid])\n",
    "    right = mergesplit(data[mid:])\n",
    "    return merge(left,right)"
   ]
  },
  {
   "cell_type": "code",
   "execution_count": 13,
   "id": "ea7af4a3",
   "metadata": {},
   "outputs": [
    {
     "data": {
      "text/plain": [
       "[1, 2, 4, 5, 7, 8, 9]"
      ]
     },
     "execution_count": 13,
     "metadata": {},
     "output_type": "execute_result"
    }
   ],
   "source": [
    "data_list = [1,4,2,5,7,8,9]\n",
    "\n",
    "mergesplit(data_list)"
   ]
  },
  {
   "cell_type": "code",
   "execution_count": null,
   "id": "bf46c022",
   "metadata": {},
   "outputs": [],
   "source": []
  }
 ],
 "metadata": {
  "kernelspec": {
   "display_name": "Python 3 (ipykernel)",
   "language": "python",
   "name": "python3"
  },
  "language_info": {
   "codemirror_mode": {
    "name": "ipython",
    "version": 3
   },
   "file_extension": ".py",
   "mimetype": "text/x-python",
   "name": "python",
   "nbconvert_exporter": "python",
   "pygments_lexer": "ipython3",
   "version": "3.9.2"
  }
 },
 "nbformat": 4,
 "nbformat_minor": 5
}
