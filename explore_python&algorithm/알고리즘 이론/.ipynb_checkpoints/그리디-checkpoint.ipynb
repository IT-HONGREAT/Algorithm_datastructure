{
 "cells": [
  {
   "cell_type": "markdown",
   "id": "94fed32f",
   "metadata": {},
   "source": [
    "###  최소동전구하기\n",
    "\n",
    "4720원\n",
    "\n",
    "[500, 100, 50, 1] 원 리스트"
   ]
  },
  {
   "cell_type": "code",
   "execution_count": 9,
   "id": "5efbc3d0",
   "metadata": {},
   "outputs": [],
   "source": [
    "def min_coin(value, coin_list):\n",
    "    coin_list.sort(reverse=True)\n",
    "    count = 0\n",
    "    check = []\n",
    "    for coin in coin_list:\n",
    "        number = (value // coin)\n",
    "        count += number\n",
    "        value -= (number * coin)\n",
    "        check.append([coin,number])\n",
    "    return count,check"
   ]
  },
  {
   "cell_type": "code",
   "execution_count": 10,
   "id": "c6b3b787",
   "metadata": {},
   "outputs": [
    {
     "data": {
      "text/plain": [
       "(31, [[500, 9], [100, 2], [50, 0], [1, 20]])"
      ]
     },
     "execution_count": 10,
     "metadata": {},
     "output_type": "execute_result"
    }
   ],
   "source": [
    "min_coin(4720, [500, 100, 50, 1])"
   ]
  },
  {
   "cell_type": "markdown",
   "id": "624386b9",
   "metadata": {},
   "source": [
    "### 부분배낭문제\n",
    "\n",
    "* 가방에 넣을 수 있는 무게를 나눌 수 있다."
   ]
  },
  {
   "cell_type": "code",
   "execution_count": 6,
   "id": "15c1eb2d",
   "metadata": {},
   "outputs": [
    {
     "data": {
      "text/plain": [
       "[(10, 10), (15, 12), (20, 10), (25, 8), (30, 5)]"
      ]
     },
     "execution_count": 6,
     "metadata": {},
     "output_type": "execute_result"
    }
   ],
   "source": [
    "weight = [10,15,20,25,30]\n",
    "value = [10,12,10,8,5]\n",
    "zipped = zip(weight,value)\n",
    "\n",
    "w_v = []\n",
    "for i in zipped:\n",
    "    w_v.append(i)\n",
    "w_v"
   ]
  },
  {
   "cell_type": "markdown",
   "id": "20af7883",
   "metadata": {},
   "source": [
    "* 가치/무게 는 무게 당 가치를 나타낸다.\n",
    "* 무게 당 가치가 높은 순으로 정렬을 해준다."
   ]
  },
  {
   "cell_type": "code",
   "execution_count": 7,
   "id": "db55de3d",
   "metadata": {},
   "outputs": [
    {
     "data": {
      "text/plain": [
       "[(10, 10), (15, 12), (20, 10), (25, 8), (30, 5)]"
      ]
     },
     "execution_count": 7,
     "metadata": {},
     "output_type": "execute_result"
    }
   ],
   "source": [
    "data = sorted(w_v, key=lambda x: x[1]/x[0], reverse=True)\n",
    "data"
   ]
  },
  {
   "cell_type": "code",
   "execution_count": 12,
   "id": "5e692ac5",
   "metadata": {},
   "outputs": [],
   "source": [
    "def get_max_value(data, capacity):\n",
    "    data = sorted(data, key=lambda x:x[1]/x[0], reverse=True)\n",
    "    total_value = 0\n",
    "    details = list()\n",
    "    \n",
    "    for i in data:\n",
    "        # 수용력에서 무게 빼기\n",
    "        if capacity - i[0] >= 0:\n",
    "            capacity -= i[0]\n",
    "            total_value += i[1]\n",
    "            details.append([i[0], i[1], 1])\n",
    "            \n",
    "        else:\n",
    "            fraction = capacity / i[0]\n",
    "            total_value += i[1] * fraction\n",
    "            details.append([i[0], i[1], fraction])\n",
    "            break\n",
    "    \n",
    "    return total_value, details"
   ]
  },
  {
   "cell_type": "code",
   "execution_count": 13,
   "id": "fbe09bb0",
   "metadata": {},
   "outputs": [
    {
     "data": {
      "text/plain": [
       "(24.5, [[10, 10, 1], [15, 12, 1], [20, 10, 0.25]])"
      ]
     },
     "execution_count": 13,
     "metadata": {},
     "output_type": "execute_result"
    }
   ],
   "source": [
    "get_max_value(data, 30)"
   ]
  },
  {
   "cell_type": "code",
   "execution_count": null,
   "id": "420622d4",
   "metadata": {},
   "outputs": [],
   "source": []
  },
  {
   "cell_type": "code",
   "execution_count": null,
   "id": "f82acc7e",
   "metadata": {},
   "outputs": [],
   "source": []
  }
 ],
 "metadata": {
  "kernelspec": {
   "display_name": "Python 3 (ipykernel)",
   "language": "python",
   "name": "python3"
  },
  "language_info": {
   "codemirror_mode": {
    "name": "ipython",
    "version": 3
   },
   "file_extension": ".py",
   "mimetype": "text/x-python",
   "name": "python",
   "nbconvert_exporter": "python",
   "pygments_lexer": "ipython3",
   "version": "3.9.2"
  }
 },
 "nbformat": 4,
 "nbformat_minor": 5
}
