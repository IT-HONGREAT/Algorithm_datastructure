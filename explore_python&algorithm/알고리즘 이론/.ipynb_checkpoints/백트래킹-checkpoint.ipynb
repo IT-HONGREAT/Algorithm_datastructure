{
 "cells": [
  {
   "cell_type": "markdown",
   "id": "231c4f62",
   "metadata": {},
   "source": [
    "## 기법의 개념\n",
    "\n",
    "* 해를 찾다가 해당 후보군, 경우의 수가 해를 만족하지 않겠다, 즉 조건을 만족하지 않는다면 prunning(가지치기) 등을 하여 탐색시간의 절약이 된다"
   ]
  },
  {
   "cell_type": "markdown",
   "id": "0e5ae4e0",
   "metadata": {},
   "source": [
    "* n queen"
   ]
  },
  {
   "cell_type": "code",
   "execution_count": 7,
   "id": "1b62c493",
   "metadata": {},
   "outputs": [],
   "source": [
    "def is_available(candidate, current_col):\n",
    "    current_row = len(candidate)\n",
    "    for queen_row in range(current_row):\n",
    "        if candidate[queen_row] == current_col or abs(candidate[queen_row] - current_col) == current_row - queen_row:\n",
    "            return False\n",
    "        \n",
    "    return True\n",
    "        \n",
    "        \n",
    "def DFS(N, current_row, current_candidate, final_result):\n",
    "    if current_row == N:\n",
    "        final_result.append(current_candidate[:])\n",
    "        return \n",
    "    \n",
    "    for candidate_col in range(N):\n",
    "        if is_available(current_candidate, candidate_col):\n",
    "            current_candidate.append(candidate_col)\n",
    "            DFS(N, current_row + 1, current_candidate, final_result)\n",
    "            current_candidate.pop()\n",
    "\n",
    "def n_queen(N):\n",
    "    \n",
    "    final_result = []\n",
    "    DFS(N, 0, [], final_result)\n",
    "    return final_result"
   ]
  },
  {
   "cell_type": "code",
   "execution_count": 11,
   "id": "f036173f",
   "metadata": {},
   "outputs": [
    {
     "data": {
      "text/plain": [
       "[[0, 4, 7, 5, 2, 6, 1, 3],\n",
       " [0, 5, 7, 2, 6, 3, 1, 4],\n",
       " [0, 6, 3, 5, 7, 1, 4, 2],\n",
       " [0, 6, 4, 7, 1, 3, 5, 2],\n",
       " [1, 3, 5, 7, 2, 0, 6, 4],\n",
       " [1, 4, 6, 0, 2, 7, 5, 3],\n",
       " [1, 4, 6, 3, 0, 7, 5, 2],\n",
       " [1, 5, 0, 6, 3, 7, 2, 4],\n",
       " [1, 5, 7, 2, 0, 3, 6, 4],\n",
       " [1, 6, 2, 5, 7, 4, 0, 3],\n",
       " [1, 6, 4, 7, 0, 3, 5, 2],\n",
       " [1, 7, 5, 0, 2, 4, 6, 3],\n",
       " [2, 0, 6, 4, 7, 1, 3, 5],\n",
       " [2, 4, 1, 7, 0, 6, 3, 5],\n",
       " [2, 4, 1, 7, 5, 3, 6, 0],\n",
       " [2, 4, 6, 0, 3, 1, 7, 5],\n",
       " [2, 4, 7, 3, 0, 6, 1, 5],\n",
       " [2, 5, 1, 4, 7, 0, 6, 3],\n",
       " [2, 5, 1, 6, 0, 3, 7, 4],\n",
       " [2, 5, 1, 6, 4, 0, 7, 3],\n",
       " [2, 5, 3, 0, 7, 4, 6, 1],\n",
       " [2, 5, 3, 1, 7, 4, 6, 0],\n",
       " [2, 5, 7, 0, 3, 6, 4, 1],\n",
       " [2, 5, 7, 0, 4, 6, 1, 3],\n",
       " [2, 5, 7, 1, 3, 0, 6, 4],\n",
       " [2, 6, 1, 7, 4, 0, 3, 5],\n",
       " [2, 6, 1, 7, 5, 3, 0, 4],\n",
       " [2, 7, 3, 6, 0, 5, 1, 4],\n",
       " [3, 0, 4, 7, 1, 6, 2, 5],\n",
       " [3, 0, 4, 7, 5, 2, 6, 1],\n",
       " [3, 1, 4, 7, 5, 0, 2, 6],\n",
       " [3, 1, 6, 2, 5, 7, 0, 4],\n",
       " [3, 1, 6, 2, 5, 7, 4, 0],\n",
       " [3, 1, 6, 4, 0, 7, 5, 2],\n",
       " [3, 1, 7, 4, 6, 0, 2, 5],\n",
       " [3, 1, 7, 5, 0, 2, 4, 6],\n",
       " [3, 5, 0, 4, 1, 7, 2, 6],\n",
       " [3, 5, 7, 1, 6, 0, 2, 4],\n",
       " [3, 5, 7, 2, 0, 6, 4, 1],\n",
       " [3, 6, 0, 7, 4, 1, 5, 2],\n",
       " [3, 6, 2, 7, 1, 4, 0, 5],\n",
       " [3, 6, 4, 1, 5, 0, 2, 7],\n",
       " [3, 6, 4, 2, 0, 5, 7, 1],\n",
       " [3, 7, 0, 2, 5, 1, 6, 4],\n",
       " [3, 7, 0, 4, 6, 1, 5, 2],\n",
       " [3, 7, 4, 2, 0, 6, 1, 5],\n",
       " [4, 0, 3, 5, 7, 1, 6, 2],\n",
       " [4, 0, 7, 3, 1, 6, 2, 5],\n",
       " [4, 0, 7, 5, 2, 6, 1, 3],\n",
       " [4, 1, 3, 5, 7, 2, 0, 6],\n",
       " [4, 1, 3, 6, 2, 7, 5, 0],\n",
       " [4, 1, 5, 0, 6, 3, 7, 2],\n",
       " [4, 1, 7, 0, 3, 6, 2, 5],\n",
       " [4, 2, 0, 5, 7, 1, 3, 6],\n",
       " [4, 2, 0, 6, 1, 7, 5, 3],\n",
       " [4, 2, 7, 3, 6, 0, 5, 1],\n",
       " [4, 6, 0, 2, 7, 5, 3, 1],\n",
       " [4, 6, 0, 3, 1, 7, 5, 2],\n",
       " [4, 6, 1, 3, 7, 0, 2, 5],\n",
       " [4, 6, 1, 5, 2, 0, 3, 7],\n",
       " [4, 6, 1, 5, 2, 0, 7, 3],\n",
       " [4, 6, 3, 0, 2, 7, 5, 1],\n",
       " [4, 7, 3, 0, 2, 5, 1, 6],\n",
       " [4, 7, 3, 0, 6, 1, 5, 2],\n",
       " [5, 0, 4, 1, 7, 2, 6, 3],\n",
       " [5, 1, 6, 0, 2, 4, 7, 3],\n",
       " [5, 1, 6, 0, 3, 7, 4, 2],\n",
       " [5, 2, 0, 6, 4, 7, 1, 3],\n",
       " [5, 2, 0, 7, 3, 1, 6, 4],\n",
       " [5, 2, 0, 7, 4, 1, 3, 6],\n",
       " [5, 2, 4, 6, 0, 3, 1, 7],\n",
       " [5, 2, 4, 7, 0, 3, 1, 6],\n",
       " [5, 2, 6, 1, 3, 7, 0, 4],\n",
       " [5, 2, 6, 1, 7, 4, 0, 3],\n",
       " [5, 2, 6, 3, 0, 7, 1, 4],\n",
       " [5, 3, 0, 4, 7, 1, 6, 2],\n",
       " [5, 3, 1, 7, 4, 6, 0, 2],\n",
       " [5, 3, 6, 0, 2, 4, 1, 7],\n",
       " [5, 3, 6, 0, 7, 1, 4, 2],\n",
       " [5, 7, 1, 3, 0, 6, 4, 2],\n",
       " [6, 0, 2, 7, 5, 3, 1, 4],\n",
       " [6, 1, 3, 0, 7, 4, 2, 5],\n",
       " [6, 1, 5, 2, 0, 3, 7, 4],\n",
       " [6, 2, 0, 5, 7, 4, 1, 3],\n",
       " [6, 2, 7, 1, 4, 0, 5, 3],\n",
       " [6, 3, 1, 4, 7, 0, 2, 5],\n",
       " [6, 3, 1, 7, 5, 0, 2, 4],\n",
       " [6, 4, 2, 0, 5, 7, 1, 3],\n",
       " [7, 1, 3, 0, 6, 4, 2, 5],\n",
       " [7, 1, 4, 2, 0, 6, 3, 5],\n",
       " [7, 2, 0, 5, 1, 4, 6, 3],\n",
       " [7, 3, 0, 2, 5, 1, 6, 4]]"
      ]
     },
     "execution_count": 11,
     "metadata": {},
     "output_type": "execute_result"
    }
   ],
   "source": [
    "n_queen(8)"
   ]
  },
  {
   "cell_type": "code",
   "execution_count": 10,
   "id": "bcc80ec9",
   "metadata": {},
   "outputs": [
    {
     "name": "stdout",
     "output_type": "stream",
     "text": [
      "92\n"
     ]
    }
   ],
   "source": [
    "print(len(n_queen(8)))"
   ]
  },
  {
   "cell_type": "code",
   "execution_count": null,
   "id": "eb87df5c",
   "metadata": {},
   "outputs": [],
   "source": []
  }
 ],
 "metadata": {
  "kernelspec": {
   "display_name": "Python 3 (ipykernel)",
   "language": "python",
   "name": "python3"
  },
  "language_info": {
   "codemirror_mode": {
    "name": "ipython",
    "version": 3
   },
   "file_extension": ".py",
   "mimetype": "text/x-python",
   "name": "python",
   "nbconvert_exporter": "python",
   "pygments_lexer": "ipython3",
   "version": "3.9.2"
  }
 },
 "nbformat": 4,
 "nbformat_minor": 5
}
