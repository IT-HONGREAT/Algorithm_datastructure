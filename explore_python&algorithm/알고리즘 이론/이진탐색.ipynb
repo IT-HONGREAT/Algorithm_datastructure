{
 "cells": [
  {
   "cell_type": "markdown",
   "id": "a76ce339",
   "metadata": {},
   "source": [
    "## 이진탐색은 정렬이 되어있어야 중간부터 check가 가능 logn"
   ]
  },
  {
   "cell_type": "code",
   "execution_count": 2,
   "id": "74a67f99",
   "metadata": {},
   "outputs": [],
   "source": [
    "def binary_search(data, search):\n",
    "    if len(data) == 1 and search == data[0]:\n",
    "        return True\n",
    "    \n",
    "    if len(data) == 1 and search != data[0]:\n",
    "        return False\n",
    "    \n",
    "    if len(data) == 0:\n",
    "        return False\n",
    "    \n",
    "    mid = len(data) // 2\n",
    "    \n",
    "    if search == data[mid]:\n",
    "        return True\n",
    "    else:\n",
    "        if search > data[mid]:\n",
    "            return binary_search(data[mid:], search)\n",
    "        else:\n",
    "            \n",
    "            return binary_search(data[:mid], search)\n",
    "        "
   ]
  },
  {
   "cell_type": "code",
   "execution_count": 5,
   "id": "2f69a6c6",
   "metadata": {},
   "outputs": [
    {
     "name": "stdout",
     "output_type": "stream",
     "text": [
      "[4, 6, 14, 26, 47, 52, 59, 70, 84, 94]\n"
     ]
    }
   ],
   "source": [
    "import random\n",
    "data = random.sample(range(1,101),10)\n",
    "\n",
    "data.sort()\n",
    "print(data)"
   ]
  },
  {
   "cell_type": "code",
   "execution_count": 6,
   "id": "2dfcff6b",
   "metadata": {},
   "outputs": [
    {
     "data": {
      "text/plain": [
       "True"
      ]
     },
     "execution_count": 6,
     "metadata": {},
     "output_type": "execute_result"
    }
   ],
   "source": [
    "binary_search(data,6)"
   ]
  },
  {
   "cell_type": "code",
   "execution_count": 7,
   "id": "9c5b5e20",
   "metadata": {},
   "outputs": [
    {
     "data": {
      "text/plain": [
       "True"
      ]
     },
     "execution_count": 7,
     "metadata": {},
     "output_type": "execute_result"
    }
   ],
   "source": [
    "binary_search(data,84)"
   ]
  },
  {
   "cell_type": "code",
   "execution_count": 8,
   "id": "fc633ce4",
   "metadata": {},
   "outputs": [
    {
     "data": {
      "text/plain": [
       "False"
      ]
     },
     "execution_count": 8,
     "metadata": {},
     "output_type": "execute_result"
    }
   ],
   "source": [
    "binary_search(data,85)"
   ]
  },
  {
   "cell_type": "code",
   "execution_count": null,
   "id": "cfff2d95",
   "metadata": {},
   "outputs": [],
   "source": []
  }
 ],
 "metadata": {
  "kernelspec": {
   "display_name": "Python 3 (ipykernel)",
   "language": "python",
   "name": "python3"
  },
  "language_info": {
   "codemirror_mode": {
    "name": "ipython",
    "version": 3
   },
   "file_extension": ".py",
   "mimetype": "text/x-python",
   "name": "python",
   "nbconvert_exporter": "python",
   "pygments_lexer": "ipython3",
   "version": "3.9.2"
  }
 },
 "nbformat": 4,
 "nbformat_minor": 5
}
